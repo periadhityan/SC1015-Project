{
 "cells": [
  {
   "cell_type": "code",
   "execution_count": 1,
   "id": "98701e52",
   "metadata": {},
   "outputs": [],
   "source": [
    "import numpy as np\n",
    "import pandas as pd\n",
    "import seaborn as sb\n",
    "import matplotlib.pyplot as plt\n",
    "sb.set()"
   ]
  },
  {
   "cell_type": "code",
   "execution_count": 2,
   "id": "95c8bcf8",
   "metadata": {},
   "outputs": [
    {
     "data": {
      "text/html": [
       "<div>\n",
       "<style scoped>\n",
       "    .dataframe tbody tr th:only-of-type {\n",
       "        vertical-align: middle;\n",
       "    }\n",
       "\n",
       "    .dataframe tbody tr th {\n",
       "        vertical-align: top;\n",
       "    }\n",
       "\n",
       "    .dataframe thead th {\n",
       "        text-align: right;\n",
       "    }\n",
       "</style>\n",
       "<table border=\"1\" class=\"dataframe\">\n",
       "  <thead>\n",
       "    <tr style=\"text-align: right;\">\n",
       "      <th></th>\n",
       "      <th>Incident_Date</th>\n",
       "      <th>Aircraft_Model</th>\n",
       "      <th>Aircaft_Registration</th>\n",
       "      <th>Aircraft_Operator</th>\n",
       "      <th>Aircraft_Nature</th>\n",
       "      <th>Incident_Category</th>\n",
       "      <th>Incident_Cause(es)</th>\n",
       "      <th>Incident_Location</th>\n",
       "      <th>Aircraft_Damage_Type</th>\n",
       "      <th>Date</th>\n",
       "      <th>...</th>\n",
       "      <th>Onboard_Crew</th>\n",
       "      <th>Onboard_Passengers</th>\n",
       "      <th>Onboard_Total</th>\n",
       "      <th>Fatalities</th>\n",
       "      <th>Aircraft_First_Flight</th>\n",
       "      <th>Aircraft_Phase</th>\n",
       "      <th>Departure_Airport</th>\n",
       "      <th>Destination_Airport</th>\n",
       "      <th>Ground_Casualties</th>\n",
       "      <th>Collision_Casualties</th>\n",
       "    </tr>\n",
       "  </thead>\n",
       "  <tbody>\n",
       "    <tr>\n",
       "      <th>0</th>\n",
       "      <td>03/01/2022</td>\n",
       "      <td>British Aerospace 4121 Jetstream 41</td>\n",
       "      <td>ZS-NRJ</td>\n",
       "      <td>SA Airlink</td>\n",
       "      <td>Domestic Non Scheduled Passenger</td>\n",
       "      <td>Accident | repairable-damage</td>\n",
       "      <td>Airplane - Engines, Airplane - Engines - Prop/...</td>\n",
       "      <td>near Venetia Mine...</td>\n",
       "      <td>Substantial</td>\n",
       "      <td>Monday 3 January 2022</td>\n",
       "      <td>...</td>\n",
       "      <td>Fatalities: 0 / Occupants: 3</td>\n",
       "      <td>Fatalities: 0 / Occupants: 4</td>\n",
       "      <td>Fatalities: 0 / Occupants: 7</td>\n",
       "      <td>0</td>\n",
       "      <td>1995-05-19  (26 years 8 months)</td>\n",
       "      <td>Landing (LDG)</td>\n",
       "      <td>Johannesburg-O.R. Tambo International Airport ...</td>\n",
       "      <td>Venetia Mine Airport (FAVM) , South Africa</td>\n",
       "      <td>NaN</td>\n",
       "      <td>NaN</td>\n",
       "    </tr>\n",
       "    <tr>\n",
       "      <th>1</th>\n",
       "      <td>04/01/2022</td>\n",
       "      <td>British Aerospace 3101 Jetstream 31</td>\n",
       "      <td>HR-AYY</td>\n",
       "      <td>LANHSA</td>\n",
       "      <td>Domestic Scheduled Passenger</td>\n",
       "      <td>Accident | repairable-damage</td>\n",
       "      <td>Airplane - Undercarriage, Airplane - Undercarr...</td>\n",
       "      <td>Roatán-Juan ...</td>\n",
       "      <td>Substantial</td>\n",
       "      <td>Tuesday 4 January 2022</td>\n",
       "      <td>...</td>\n",
       "      <td>Fatalities: 0 / Occupants:</td>\n",
       "      <td>Fatalities: 0 / Occupants:</td>\n",
       "      <td>Fatalities: 0 / Occupants: 19</td>\n",
       "      <td>0</td>\n",
       "      <td>1985</td>\n",
       "      <td>Landing (LDG)</td>\n",
       "      <td>La Ceiba-Goloson International Airport (LCE/MH...</td>\n",
       "      <td>Roatán-Juan Manuel Gálvez International Airpor...</td>\n",
       "      <td>NaN</td>\n",
       "      <td>NaN</td>\n",
       "    </tr>\n",
       "    <tr>\n",
       "      <th>2</th>\n",
       "      <td>05/01/2022</td>\n",
       "      <td>Boeing 737-4H6</td>\n",
       "      <td>EP-CAP</td>\n",
       "      <td>Caspian Airlines</td>\n",
       "      <td>Domestic Scheduled Passenger</td>\n",
       "      <td>Accident | repairable-damage</td>\n",
       "      <td>Airplane - Undercarriage, Airplane - Undercarr...</td>\n",
       "      <td>Isfahan-Shah...</td>\n",
       "      <td>Substantial</td>\n",
       "      <td>Wednesday 5 January 2022</td>\n",
       "      <td>...</td>\n",
       "      <td>Fatalities: 0 / Occupants:</td>\n",
       "      <td>Fatalities: 0 / Occupants:</td>\n",
       "      <td>Fatalities: 0 / Occupants: 116</td>\n",
       "      <td>0</td>\n",
       "      <td>1992-09-18  (29 years 4 months)</td>\n",
       "      <td>Landing (LDG)</td>\n",
       "      <td>Mashhad Airport (MHD/OIMM) , Iran</td>\n",
       "      <td>Isfahan-Shahid Beheshti Airport (IFN/OIFM) , Iran</td>\n",
       "      <td>NaN</td>\n",
       "      <td>NaN</td>\n",
       "    </tr>\n",
       "    <tr>\n",
       "      <th>3</th>\n",
       "      <td>08/01/2022</td>\n",
       "      <td>Tupolev Tu-204-100C</td>\n",
       "      <td>RA-64032</td>\n",
       "      <td>Cainiao, opb Aviastar-TU</td>\n",
       "      <td>Cargo</td>\n",
       "      <td>Accident | hull-loss</td>\n",
       "      <td>Cargo - Fire/smoke, Result - Damaged on the gr...</td>\n",
       "      <td>Hangzhou-Xia...</td>\n",
       "      <td>Destroyed</td>\n",
       "      <td>Saturday 8 January 2022</td>\n",
       "      <td>...</td>\n",
       "      <td>Fatalities: 0 / Occupants: 8</td>\n",
       "      <td>Fatalities: 0 / Occupants: 0</td>\n",
       "      <td>Fatalities: 0 / Occupants: 8</td>\n",
       "      <td>0</td>\n",
       "      <td>2002-07-18  (19 years 6 months)</td>\n",
       "      <td>Standing (STD)</td>\n",
       "      <td>Hangzhou-Xiaoshan International Airport (HGH/Z...</td>\n",
       "      <td>Novosibirsk-Tolmachevo Airport (OVB/UNNT) , Ru...</td>\n",
       "      <td>NaN</td>\n",
       "      <td>NaN</td>\n",
       "    </tr>\n",
       "    <tr>\n",
       "      <th>4</th>\n",
       "      <td>12/01/2022</td>\n",
       "      <td>Beechcraft 200 Super King Air</td>\n",
       "      <td>NaN</td>\n",
       "      <td>private</td>\n",
       "      <td>Illegal Flight</td>\n",
       "      <td>Criminal occurrence (sabotage, shoot down) | h...</td>\n",
       "      <td>Result - Damaged on the ground</td>\n",
       "      <td>Machakilha, ...</td>\n",
       "      <td>Damaged beyond repair</td>\n",
       "      <td>Wednesday 12 January 2022</td>\n",
       "      <td>...</td>\n",
       "      <td>Fatalities: 0 / Occupants: 0</td>\n",
       "      <td>Fatalities: 0 / Occupants: 0</td>\n",
       "      <td>Fatalities: 0 / Occupants: 0</td>\n",
       "      <td>0</td>\n",
       "      <td>NaN</td>\n",
       "      <td>Standing (STD)</td>\n",
       "      <td>?</td>\n",
       "      <td>?</td>\n",
       "      <td>NaN</td>\n",
       "      <td>NaN</td>\n",
       "    </tr>\n",
       "  </tbody>\n",
       "</table>\n",
       "<p>5 rows × 23 columns</p>\n",
       "</div>"
      ],
      "text/plain": [
       "  Incident_Date                       Aircraft_Model Aircaft_Registration  \\\n",
       "0    03/01/2022  British Aerospace 4121 Jetstream 41               ZS-NRJ   \n",
       "1    04/01/2022  British Aerospace 3101 Jetstream 31               HR-AYY   \n",
       "2    05/01/2022                       Boeing 737-4H6               EP-CAP   \n",
       "3    08/01/2022                  Tupolev Tu-204-100C             RA-64032   \n",
       "4    12/01/2022        Beechcraft 200 Super King Air                  NaN   \n",
       "\n",
       "          Aircraft_Operator                   Aircraft_Nature  \\\n",
       "0                SA Airlink  Domestic Non Scheduled Passenger   \n",
       "1                    LANHSA      Domestic Scheduled Passenger   \n",
       "2          Caspian Airlines      Domestic Scheduled Passenger   \n",
       "3  Cainiao, opb Aviastar-TU                             Cargo   \n",
       "4                   private                    Illegal Flight   \n",
       "\n",
       "                                   Incident_Category  \\\n",
       "0                       Accident | repairable-damage   \n",
       "1                       Accident | repairable-damage   \n",
       "2                       Accident | repairable-damage   \n",
       "3                               Accident | hull-loss   \n",
       "4  Criminal occurrence (sabotage, shoot down) | h...   \n",
       "\n",
       "                                  Incident_Cause(es)     Incident_Location  \\\n",
       "0  Airplane - Engines, Airplane - Engines - Prop/...  near Venetia Mine...   \n",
       "1  Airplane - Undercarriage, Airplane - Undercarr...       Roatán-Juan ...   \n",
       "2  Airplane - Undercarriage, Airplane - Undercarr...       Isfahan-Shah...   \n",
       "3  Cargo - Fire/smoke, Result - Damaged on the gr...       Hangzhou-Xia...   \n",
       "4                     Result - Damaged on the ground       Machakilha, ...   \n",
       "\n",
       "    Aircraft_Damage_Type                       Date  ...  \\\n",
       "0            Substantial      Monday 3 January 2022  ...   \n",
       "1            Substantial     Tuesday 4 January 2022  ...   \n",
       "2            Substantial   Wednesday 5 January 2022  ...   \n",
       "3              Destroyed    Saturday 8 January 2022  ...   \n",
       "4  Damaged beyond repair  Wednesday 12 January 2022  ...   \n",
       "\n",
       "                   Onboard_Crew            Onboard_Passengers  \\\n",
       "0  Fatalities: 0 / Occupants: 3  Fatalities: 0 / Occupants: 4   \n",
       "1    Fatalities: 0 / Occupants:    Fatalities: 0 / Occupants:   \n",
       "2    Fatalities: 0 / Occupants:    Fatalities: 0 / Occupants:   \n",
       "3  Fatalities: 0 / Occupants: 8  Fatalities: 0 / Occupants: 0   \n",
       "4  Fatalities: 0 / Occupants: 0  Fatalities: 0 / Occupants: 0   \n",
       "\n",
       "                    Onboard_Total Fatalities            Aircraft_First_Flight  \\\n",
       "0    Fatalities: 0 / Occupants: 7          0  1995-05-19  (26 years 8 months)   \n",
       "1   Fatalities: 0 / Occupants: 19          0                             1985   \n",
       "2  Fatalities: 0 / Occupants: 116          0  1992-09-18  (29 years 4 months)   \n",
       "3    Fatalities: 0 / Occupants: 8          0  2002-07-18  (19 years 6 months)   \n",
       "4    Fatalities: 0 / Occupants: 0          0                              NaN   \n",
       "\n",
       "   Aircraft_Phase                                  Departure_Airport  \\\n",
       "0   Landing (LDG)  Johannesburg-O.R. Tambo International Airport ...   \n",
       "1   Landing (LDG)  La Ceiba-Goloson International Airport (LCE/MH...   \n",
       "2   Landing (LDG)                  Mashhad Airport (MHD/OIMM) , Iran   \n",
       "3  Standing (STD)  Hangzhou-Xiaoshan International Airport (HGH/Z...   \n",
       "4  Standing (STD)                                                  ?   \n",
       "\n",
       "                                 Destination_Airport Ground_Casualties  \\\n",
       "0         Venetia Mine Airport (FAVM) , South Africa               NaN   \n",
       "1  Roatán-Juan Manuel Gálvez International Airpor...               NaN   \n",
       "2  Isfahan-Shahid Beheshti Airport (IFN/OIFM) , Iran               NaN   \n",
       "3  Novosibirsk-Tolmachevo Airport (OVB/UNNT) , Ru...               NaN   \n",
       "4                                                  ?               NaN   \n",
       "\n",
       "  Collision_Casualties  \n",
       "0                  NaN  \n",
       "1                  NaN  \n",
       "2                  NaN  \n",
       "3                  NaN  \n",
       "4                  NaN  \n",
       "\n",
       "[5 rows x 23 columns]"
      ]
     },
     "execution_count": 2,
     "metadata": {},
     "output_type": "execute_result"
    }
   ],
   "source": [
    "Big_Data = pd.read_csv(\"Aircraft_Incident_dataset.csv\")\n",
    "Big_Data.head()"
   ]
  },
  {
   "cell_type": "code",
   "execution_count": 3,
   "id": "c91cbdd2",
   "metadata": {},
   "outputs": [
    {
     "data": {
      "text/html": [
       "<div>\n",
       "<style scoped>\n",
       "    .dataframe tbody tr th:only-of-type {\n",
       "        vertical-align: middle;\n",
       "    }\n",
       "\n",
       "    .dataframe tbody tr th {\n",
       "        vertical-align: top;\n",
       "    }\n",
       "\n",
       "    .dataframe thead th {\n",
       "        text-align: right;\n",
       "    }\n",
       "</style>\n",
       "<table border=\"1\" class=\"dataframe\">\n",
       "  <thead>\n",
       "    <tr style=\"text-align: right;\">\n",
       "      <th></th>\n",
       "      <th>Fatalities</th>\n",
       "    </tr>\n",
       "  </thead>\n",
       "  <tbody>\n",
       "    <tr>\n",
       "      <th>count</th>\n",
       "      <td>23519.000000</td>\n",
       "    </tr>\n",
       "    <tr>\n",
       "      <th>mean</th>\n",
       "      <td>5.611931</td>\n",
       "    </tr>\n",
       "    <tr>\n",
       "      <th>std</th>\n",
       "      <td>22.205937</td>\n",
       "    </tr>\n",
       "    <tr>\n",
       "      <th>min</th>\n",
       "      <td>0.000000</td>\n",
       "    </tr>\n",
       "    <tr>\n",
       "      <th>25%</th>\n",
       "      <td>0.000000</td>\n",
       "    </tr>\n",
       "    <tr>\n",
       "      <th>50%</th>\n",
       "      <td>0.000000</td>\n",
       "    </tr>\n",
       "    <tr>\n",
       "      <th>75%</th>\n",
       "      <td>4.000000</td>\n",
       "    </tr>\n",
       "    <tr>\n",
       "      <th>max</th>\n",
       "      <td>1692.000000</td>\n",
       "    </tr>\n",
       "  </tbody>\n",
       "</table>\n",
       "</div>"
      ],
      "text/plain": [
       "         Fatalities\n",
       "count  23519.000000\n",
       "mean       5.611931\n",
       "std       22.205937\n",
       "min        0.000000\n",
       "25%        0.000000\n",
       "50%        0.000000\n",
       "75%        4.000000\n",
       "max     1692.000000"
      ]
     },
     "execution_count": 3,
     "metadata": {},
     "output_type": "execute_result"
    }
   ],
   "source": [
    "Big_Data.describe()"
   ]
  },
  {
   "cell_type": "code",
   "execution_count": 4,
   "id": "610d4b0a",
   "metadata": {},
   "outputs": [
    {
     "data": {
      "text/plain": [
       "(23519, 23)"
      ]
     },
     "execution_count": 4,
     "metadata": {},
     "output_type": "execute_result"
    }
   ],
   "source": [
    "Big_Data.shape"
   ]
  },
  {
   "cell_type": "code",
   "execution_count": 5,
   "id": "3b7cb86b",
   "metadata": {},
   "outputs": [],
   "source": [
    "Aircraft = pd.DataFrame(Big_Data[[\"Date\", \"Aircraft_Model\", \"Aircraft_Nature\", \"Incident_Category\", \"Incident_Cause(es)\", \"Aircraft_Damage_Type\", \"Aircraft_First_Flight\"]])"
   ]
  },
  {
   "cell_type": "code",
   "execution_count": 6,
   "id": "dba9474b",
   "metadata": {},
   "outputs": [
    {
     "data": {
      "text/html": [
       "<div>\n",
       "<style scoped>\n",
       "    .dataframe tbody tr th:only-of-type {\n",
       "        vertical-align: middle;\n",
       "    }\n",
       "\n",
       "    .dataframe tbody tr th {\n",
       "        vertical-align: top;\n",
       "    }\n",
       "\n",
       "    .dataframe thead th {\n",
       "        text-align: right;\n",
       "    }\n",
       "</style>\n",
       "<table border=\"1\" class=\"dataframe\">\n",
       "  <thead>\n",
       "    <tr style=\"text-align: right;\">\n",
       "      <th></th>\n",
       "      <th>Date</th>\n",
       "      <th>Aircraft_Model</th>\n",
       "      <th>Aircraft_Nature</th>\n",
       "      <th>Incident_Category</th>\n",
       "      <th>Incident_Cause(es)</th>\n",
       "      <th>Aircraft_Damage_Type</th>\n",
       "      <th>Aircraft_First_Flight</th>\n",
       "    </tr>\n",
       "  </thead>\n",
       "  <tbody>\n",
       "    <tr>\n",
       "      <th>0</th>\n",
       "      <td>Monday 3 January 2022</td>\n",
       "      <td>British Aerospace 4121 Jetstream 41</td>\n",
       "      <td>Domestic Non Scheduled Passenger</td>\n",
       "      <td>Accident | repairable-damage</td>\n",
       "      <td>Airplane - Engines, Airplane - Engines - Prop/...</td>\n",
       "      <td>Substantial</td>\n",
       "      <td>1995-05-19  (26 years 8 months)</td>\n",
       "    </tr>\n",
       "    <tr>\n",
       "      <th>1</th>\n",
       "      <td>Tuesday 4 January 2022</td>\n",
       "      <td>British Aerospace 3101 Jetstream 31</td>\n",
       "      <td>Domestic Scheduled Passenger</td>\n",
       "      <td>Accident | repairable-damage</td>\n",
       "      <td>Airplane - Undercarriage, Airplane - Undercarr...</td>\n",
       "      <td>Substantial</td>\n",
       "      <td>1985</td>\n",
       "    </tr>\n",
       "    <tr>\n",
       "      <th>2</th>\n",
       "      <td>Wednesday 5 January 2022</td>\n",
       "      <td>Boeing 737-4H6</td>\n",
       "      <td>Domestic Scheduled Passenger</td>\n",
       "      <td>Accident | repairable-damage</td>\n",
       "      <td>Airplane - Undercarriage, Airplane - Undercarr...</td>\n",
       "      <td>Substantial</td>\n",
       "      <td>1992-09-18  (29 years 4 months)</td>\n",
       "    </tr>\n",
       "    <tr>\n",
       "      <th>3</th>\n",
       "      <td>Saturday 8 January 2022</td>\n",
       "      <td>Tupolev Tu-204-100C</td>\n",
       "      <td>Cargo</td>\n",
       "      <td>Accident | hull-loss</td>\n",
       "      <td>Cargo - Fire/smoke, Result - Damaged on the gr...</td>\n",
       "      <td>Destroyed</td>\n",
       "      <td>2002-07-18  (19 years 6 months)</td>\n",
       "    </tr>\n",
       "    <tr>\n",
       "      <th>4</th>\n",
       "      <td>Wednesday 12 January 2022</td>\n",
       "      <td>Beechcraft 200 Super King Air</td>\n",
       "      <td>Illegal Flight</td>\n",
       "      <td>Criminal occurrence (sabotage, shoot down) | h...</td>\n",
       "      <td>Result - Damaged on the ground</td>\n",
       "      <td>Damaged beyond repair</td>\n",
       "      <td>NaN</td>\n",
       "    </tr>\n",
       "  </tbody>\n",
       "</table>\n",
       "</div>"
      ],
      "text/plain": [
       "                        Date                       Aircraft_Model  \\\n",
       "0      Monday 3 January 2022  British Aerospace 4121 Jetstream 41   \n",
       "1     Tuesday 4 January 2022  British Aerospace 3101 Jetstream 31   \n",
       "2   Wednesday 5 January 2022                       Boeing 737-4H6   \n",
       "3    Saturday 8 January 2022                  Tupolev Tu-204-100C   \n",
       "4  Wednesday 12 January 2022        Beechcraft 200 Super King Air   \n",
       "\n",
       "                    Aircraft_Nature  \\\n",
       "0  Domestic Non Scheduled Passenger   \n",
       "1      Domestic Scheduled Passenger   \n",
       "2      Domestic Scheduled Passenger   \n",
       "3                             Cargo   \n",
       "4                    Illegal Flight   \n",
       "\n",
       "                                   Incident_Category  \\\n",
       "0                       Accident | repairable-damage   \n",
       "1                       Accident | repairable-damage   \n",
       "2                       Accident | repairable-damage   \n",
       "3                               Accident | hull-loss   \n",
       "4  Criminal occurrence (sabotage, shoot down) | h...   \n",
       "\n",
       "                                  Incident_Cause(es)   Aircraft_Damage_Type  \\\n",
       "0  Airplane - Engines, Airplane - Engines - Prop/...            Substantial   \n",
       "1  Airplane - Undercarriage, Airplane - Undercarr...            Substantial   \n",
       "2  Airplane - Undercarriage, Airplane - Undercarr...            Substantial   \n",
       "3  Cargo - Fire/smoke, Result - Damaged on the gr...              Destroyed   \n",
       "4                     Result - Damaged on the ground  Damaged beyond repair   \n",
       "\n",
       "             Aircraft_First_Flight  \n",
       "0  1995-05-19  (26 years 8 months)  \n",
       "1                             1985  \n",
       "2  1992-09-18  (29 years 4 months)  \n",
       "3  2002-07-18  (19 years 6 months)  \n",
       "4                              NaN  "
      ]
     },
     "execution_count": 6,
     "metadata": {},
     "output_type": "execute_result"
    }
   ],
   "source": [
    "Aircraft.head()"
   ]
  },
  {
   "cell_type": "code",
   "execution_count": 7,
   "id": "a6a27705",
   "metadata": {},
   "outputs": [],
   "source": [
    "Aircraft = Aircraft.dropna()"
   ]
  },
  {
   "cell_type": "code",
   "execution_count": 8,
   "id": "5e0eeaa2",
   "metadata": {},
   "outputs": [],
   "source": [
    "Aircraft = Aircraft.drop(Aircraft.index[Aircraft['Incident_Category'] == 'Criminal occurrence (sabotage, shoot down) | hull-loss'], inplace = False)"
   ]
  },
  {
   "cell_type": "code",
   "execution_count": 9,
   "id": "c5d8650a",
   "metadata": {},
   "outputs": [],
   "source": [
    "Aircraft = Aircraft.drop(Aircraft.index[Aircraft['Incident_Cause(es)'] == 'Info-Unavailable'], inplace = False)"
   ]
  },
  {
   "cell_type": "code",
   "execution_count": 10,
   "id": "7f0a8573",
   "metadata": {},
   "outputs": [],
   "source": [
    "Aircraft = Aircraft.drop(Aircraft.index[Aircraft['Incident_Category'] == 'other occurrence (ground fire, sabotage) | hull-loss'], inplace = False)"
   ]
  },
  {
   "cell_type": "code",
   "execution_count": 11,
   "id": "bc7a05e2",
   "metadata": {},
   "outputs": [],
   "source": [
    "Aircraft = Aircraft.drop(Aircraft.index[Aircraft['Incident_Category'] == 'Hijacking | repairable-damage'], inplace = False)"
   ]
  },
  {
   "cell_type": "code",
   "execution_count": 12,
   "id": "89d8de15",
   "metadata": {},
   "outputs": [
    {
     "data": {
      "text/plain": [
       "(9356, 7)"
      ]
     },
     "execution_count": 12,
     "metadata": {},
     "output_type": "execute_result"
    }
   ],
   "source": [
    "Aircraft.shape"
   ]
  },
  {
   "cell_type": "code",
   "execution_count": 13,
   "id": "bb98bb54",
   "metadata": {},
   "outputs": [
    {
     "name": "stdout",
     "output_type": "stream",
     "text": [
      "                           Date                       Aircraft_Model  \\\n",
      "0         Monday 3 January 2022  British Aerospace 4121 Jetstream 41   \n",
      "1        Tuesday 4 January 2022  British Aerospace 3101 Jetstream 31   \n",
      "2      Wednesday 5 January 2022                       Boeing 737-4H6   \n",
      "3       Saturday 8 January 2022                  Tupolev Tu-204-100C   \n",
      "5      Saturday 22 January 2022                      Airbus A320-232   \n",
      "...                         ...                                  ...   \n",
      "23496        Monday 14 May 1923                  Farman F.60 Goliath   \n",
      "23500     Monday 27 August 1923                  Farman F.60 Goliath   \n",
      "23505       Friday 7 April 1922                  Farman F.60 Goliath   \n",
      "23513   Monday 23 February 1920                     Handley Page O/7   \n",
      "23515    Wednesday 30 June 1920                   Handley Page O/400   \n",
      "\n",
      "                         Aircraft_Nature             Incident_Category  \\\n",
      "0       Domestic Non Scheduled Passenger  Accident | repairable-damage   \n",
      "1           Domestic Scheduled Passenger  Accident | repairable-damage   \n",
      "2           Domestic Scheduled Passenger  Accident | repairable-damage   \n",
      "3                                  Cargo          Accident | hull-loss   \n",
      "5           Domestic Scheduled Passenger  Accident | repairable-damage   \n",
      "...                                  ...                           ...   \n",
      "23496  International Scheduled Passenger          Accident | hull-loss   \n",
      "23500  International Scheduled Passenger          Accident | hull-loss   \n",
      "23505  International Scheduled Passenger          Accident | hull-loss   \n",
      "23513       Domestic Scheduled Passenger          Accident | hull-loss   \n",
      "23515                      Demonstration          Accident | hull-loss   \n",
      "\n",
      "                                      Incident_Cause(es)  \\\n",
      "0      Airplane - Engines, Airplane - Engines - Prop/...   \n",
      "1      Airplane - Undercarriage, Airplane - Undercarr...   \n",
      "2      Airplane - Undercarriage, Airplane - Undercarr...   \n",
      "3      Cargo - Fire/smoke, Result - Damaged on the gr...   \n",
      "5      Landing/takeoff - Tailstrike, Result - Runway ...   \n",
      "...                                                  ...   \n",
      "23496  Airplane - Airframe, Airplane - Airframe - Win...   \n",
      "23500                           Result - Loss of control   \n",
      "23505  Collision - Aircraft, Collision - Aircraft - I...   \n",
      "23513  Airplane - Flight control surfaces, Airplane -...   \n",
      "23515  Result - Emergency, forced landing - Outside a...   \n",
      "\n",
      "        Aircraft_Damage_Type            Aircraft_First_Flight  \n",
      "0                Substantial  1995-05-19  (26 years 8 months)  \n",
      "1                Substantial                             1985  \n",
      "2                Substantial  1992-09-18  (29 years 4 months)  \n",
      "3                  Destroyed  2002-07-18  (19 years 6 months)  \n",
      "5                Substantial  2008-10-07  (13 years 4 months)  \n",
      "...                      ...                              ...  \n",
      "23496  Damaged beyond repair                             1922  \n",
      "23500  Damaged beyond repair                             1922  \n",
      "23505  Damaged beyond repair                             1920  \n",
      "23513  Damaged beyond repair                             1919  \n",
      "23515  Damaged beyond repair                             1919  \n",
      "\n",
      "[9356 rows x 7 columns]\n"
     ]
    }
   ],
   "source": [
    "print(Aircraft)"
   ]
  },
  {
   "cell_type": "code",
   "execution_count": 14,
   "id": "47c95cb6",
   "metadata": {},
   "outputs": [
    {
     "name": "stdout",
     "output_type": "stream",
     "text": [
      "0       Monday 3 January 2022\n",
      "1      Tuesday 4 January 2022\n",
      "2    Wednesday 5 January 2022\n",
      "3     Saturday 8 January 2022\n",
      "5    Saturday 22 January 2022\n",
      "Name: Date, dtype: object\n"
     ]
    }
   ],
   "source": [
    "print(Aircraft['Date'].head())"
   ]
  },
  {
   "cell_type": "code",
   "execution_count": 15,
   "id": "08f09c82",
   "metadata": {},
   "outputs": [
    {
     "data": {
      "text/plain": [
       "dtype('O')"
      ]
     },
     "execution_count": 15,
     "metadata": {},
     "output_type": "execute_result"
    }
   ],
   "source": [
    "Aircraft['Date'].dtype"
   ]
  },
  {
   "cell_type": "code",
   "execution_count": 16,
   "id": "2dd4cdd7",
   "metadata": {},
   "outputs": [],
   "source": [
    "Aircraft['Aircraft_First_Flight'] = Aircraft['Aircraft_First_Flight'].str.split(' ').str[0]"
   ]
  },
  {
   "cell_type": "code",
   "execution_count": 17,
   "id": "39d0c211",
   "metadata": {},
   "outputs": [
    {
     "name": "stdout",
     "output_type": "stream",
     "text": [
      "0        1995-05-19\n",
      "1              1985\n",
      "2        1992-09-18\n",
      "3        2002-07-18\n",
      "5        2008-10-07\n",
      "            ...    \n",
      "23496          1922\n",
      "23500          1922\n",
      "23505          1920\n",
      "23513          1919\n",
      "23515          1919\n",
      "Name: Aircraft_First_Flight, Length: 9356, dtype: object\n"
     ]
    }
   ],
   "source": [
    "print(Aircraft['Aircraft_First_Flight'])"
   ]
  },
  {
   "cell_type": "code",
   "execution_count": 18,
   "id": "7b43260f",
   "metadata": {},
   "outputs": [
    {
     "data": {
      "text/html": [
       "<div>\n",
       "<style scoped>\n",
       "    .dataframe tbody tr th:only-of-type {\n",
       "        vertical-align: middle;\n",
       "    }\n",
       "\n",
       "    .dataframe tbody tr th {\n",
       "        vertical-align: top;\n",
       "    }\n",
       "\n",
       "    .dataframe thead th {\n",
       "        text-align: right;\n",
       "    }\n",
       "</style>\n",
       "<table border=\"1\" class=\"dataframe\">\n",
       "  <thead>\n",
       "    <tr style=\"text-align: right;\">\n",
       "      <th></th>\n",
       "      <th>Date</th>\n",
       "      <th>Aircraft_Model</th>\n",
       "      <th>Aircraft_Nature</th>\n",
       "      <th>Incident_Category</th>\n",
       "      <th>Incident_Cause(es)</th>\n",
       "      <th>Aircraft_Damage_Type</th>\n",
       "      <th>Aircraft_First_Flight</th>\n",
       "    </tr>\n",
       "  </thead>\n",
       "  <tbody>\n",
       "    <tr>\n",
       "      <th>0</th>\n",
       "      <td>Monday 3 January 2022</td>\n",
       "      <td>British Aerospace 4121 Jetstream 41</td>\n",
       "      <td>Domestic Non Scheduled Passenger</td>\n",
       "      <td>Accident | repairable-damage</td>\n",
       "      <td>Airplane - Engines, Airplane - Engines - Prop/...</td>\n",
       "      <td>Substantial</td>\n",
       "      <td>1995</td>\n",
       "    </tr>\n",
       "    <tr>\n",
       "      <th>1</th>\n",
       "      <td>Tuesday 4 January 2022</td>\n",
       "      <td>British Aerospace 3101 Jetstream 31</td>\n",
       "      <td>Domestic Scheduled Passenger</td>\n",
       "      <td>Accident | repairable-damage</td>\n",
       "      <td>Airplane - Undercarriage, Airplane - Undercarr...</td>\n",
       "      <td>Substantial</td>\n",
       "      <td>1985</td>\n",
       "    </tr>\n",
       "    <tr>\n",
       "      <th>2</th>\n",
       "      <td>Wednesday 5 January 2022</td>\n",
       "      <td>Boeing 737-4H6</td>\n",
       "      <td>Domestic Scheduled Passenger</td>\n",
       "      <td>Accident | repairable-damage</td>\n",
       "      <td>Airplane - Undercarriage, Airplane - Undercarr...</td>\n",
       "      <td>Substantial</td>\n",
       "      <td>1992</td>\n",
       "    </tr>\n",
       "    <tr>\n",
       "      <th>3</th>\n",
       "      <td>Saturday 8 January 2022</td>\n",
       "      <td>Tupolev Tu-204-100C</td>\n",
       "      <td>Cargo</td>\n",
       "      <td>Accident | hull-loss</td>\n",
       "      <td>Cargo - Fire/smoke, Result - Damaged on the gr...</td>\n",
       "      <td>Destroyed</td>\n",
       "      <td>2002</td>\n",
       "    </tr>\n",
       "    <tr>\n",
       "      <th>5</th>\n",
       "      <td>Saturday 22 January 2022</td>\n",
       "      <td>Airbus A320-232</td>\n",
       "      <td>Domestic Scheduled Passenger</td>\n",
       "      <td>Accident | repairable-damage</td>\n",
       "      <td>Landing/takeoff - Tailstrike, Result - Runway ...</td>\n",
       "      <td>Substantial</td>\n",
       "      <td>2008</td>\n",
       "    </tr>\n",
       "  </tbody>\n",
       "</table>\n",
       "</div>"
      ],
      "text/plain": [
       "                       Date                       Aircraft_Model  \\\n",
       "0     Monday 3 January 2022  British Aerospace 4121 Jetstream 41   \n",
       "1    Tuesday 4 January 2022  British Aerospace 3101 Jetstream 31   \n",
       "2  Wednesday 5 January 2022                       Boeing 737-4H6   \n",
       "3   Saturday 8 January 2022                  Tupolev Tu-204-100C   \n",
       "5  Saturday 22 January 2022                      Airbus A320-232   \n",
       "\n",
       "                    Aircraft_Nature             Incident_Category  \\\n",
       "0  Domestic Non Scheduled Passenger  Accident | repairable-damage   \n",
       "1      Domestic Scheduled Passenger  Accident | repairable-damage   \n",
       "2      Domestic Scheduled Passenger  Accident | repairable-damage   \n",
       "3                             Cargo          Accident | hull-loss   \n",
       "5      Domestic Scheduled Passenger  Accident | repairable-damage   \n",
       "\n",
       "                                  Incident_Cause(es) Aircraft_Damage_Type  \\\n",
       "0  Airplane - Engines, Airplane - Engines - Prop/...          Substantial   \n",
       "1  Airplane - Undercarriage, Airplane - Undercarr...          Substantial   \n",
       "2  Airplane - Undercarriage, Airplane - Undercarr...          Substantial   \n",
       "3  Cargo - Fire/smoke, Result - Damaged on the gr...            Destroyed   \n",
       "5  Landing/takeoff - Tailstrike, Result - Runway ...          Substantial   \n",
       "\n",
       "  Aircraft_First_Flight  \n",
       "0                  1995  \n",
       "1                  1985  \n",
       "2                  1992  \n",
       "3                  2002  \n",
       "5                  2008  "
      ]
     },
     "execution_count": 18,
     "metadata": {},
     "output_type": "execute_result"
    }
   ],
   "source": [
    "Aircraft['Aircraft_First_Flight'] = pd.to_datetime(Aircraft['Aircraft_First_Flight'])\n",
    "Aircraft['Aircraft_First_Flight'] = Aircraft['Aircraft_First_Flight'].dt.strftime('%Y-%m-%d')\n",
    "Aircraft['Aircraft_First_Flight'] = Aircraft['Aircraft_First_Flight'].str.split('-').str[0]\n",
    "Aircraft.head()"
   ]
  },
  {
   "cell_type": "code",
   "execution_count": 19,
   "id": "701cd507",
   "metadata": {},
   "outputs": [],
   "source": [
    "Aircraft['Date'] = Aircraft['Date'].str.split(' ').str[3]"
   ]
  },
  {
   "cell_type": "code",
   "execution_count": 20,
   "id": "1dda45d9",
   "metadata": {},
   "outputs": [
    {
     "name": "stdout",
     "output_type": "stream",
     "text": [
      "0        2022\n",
      "1        2022\n",
      "2        2022\n",
      "3        2022\n",
      "5        2022\n",
      "         ... \n",
      "23496    1923\n",
      "23500    1923\n",
      "23505    1922\n",
      "23513    1920\n",
      "23515    1920\n",
      "Name: Date, Length: 9356, dtype: object\n"
     ]
    }
   ],
   "source": [
    "print(Aircraft['Date'])"
   ]
  },
  {
   "cell_type": "code",
   "execution_count": 21,
   "id": "03d85ea8",
   "metadata": {
    "scrolled": true
   },
   "outputs": [
    {
     "data": {
      "text/html": [
       "<div>\n",
       "<style scoped>\n",
       "    .dataframe tbody tr th:only-of-type {\n",
       "        vertical-align: middle;\n",
       "    }\n",
       "\n",
       "    .dataframe tbody tr th {\n",
       "        vertical-align: top;\n",
       "    }\n",
       "\n",
       "    .dataframe thead th {\n",
       "        text-align: right;\n",
       "    }\n",
       "</style>\n",
       "<table border=\"1\" class=\"dataframe\">\n",
       "  <thead>\n",
       "    <tr style=\"text-align: right;\">\n",
       "      <th></th>\n",
       "      <th>Date</th>\n",
       "      <th>Aircraft_Model</th>\n",
       "      <th>Aircraft_Nature</th>\n",
       "      <th>Incident_Category</th>\n",
       "      <th>Incident_Cause(es)</th>\n",
       "      <th>Aircraft_Damage_Type</th>\n",
       "      <th>Aircraft_First_Flight</th>\n",
       "    </tr>\n",
       "  </thead>\n",
       "  <tbody>\n",
       "    <tr>\n",
       "      <th>0</th>\n",
       "      <td>2022</td>\n",
       "      <td>British Aerospace 4121 Jetstream 41</td>\n",
       "      <td>Domestic Non Scheduled Passenger</td>\n",
       "      <td>Accident | repairable-damage</td>\n",
       "      <td>Airplane - Engines, Airplane - Engines - Prop/...</td>\n",
       "      <td>Substantial</td>\n",
       "      <td>1995</td>\n",
       "    </tr>\n",
       "    <tr>\n",
       "      <th>1</th>\n",
       "      <td>2022</td>\n",
       "      <td>British Aerospace 3101 Jetstream 31</td>\n",
       "      <td>Domestic Scheduled Passenger</td>\n",
       "      <td>Accident | repairable-damage</td>\n",
       "      <td>Airplane - Undercarriage, Airplane - Undercarr...</td>\n",
       "      <td>Substantial</td>\n",
       "      <td>1985</td>\n",
       "    </tr>\n",
       "    <tr>\n",
       "      <th>2</th>\n",
       "      <td>2022</td>\n",
       "      <td>Boeing 737-4H6</td>\n",
       "      <td>Domestic Scheduled Passenger</td>\n",
       "      <td>Accident | repairable-damage</td>\n",
       "      <td>Airplane - Undercarriage, Airplane - Undercarr...</td>\n",
       "      <td>Substantial</td>\n",
       "      <td>1992</td>\n",
       "    </tr>\n",
       "    <tr>\n",
       "      <th>3</th>\n",
       "      <td>2022</td>\n",
       "      <td>Tupolev Tu-204-100C</td>\n",
       "      <td>Cargo</td>\n",
       "      <td>Accident | hull-loss</td>\n",
       "      <td>Cargo - Fire/smoke, Result - Damaged on the gr...</td>\n",
       "      <td>Destroyed</td>\n",
       "      <td>2002</td>\n",
       "    </tr>\n",
       "    <tr>\n",
       "      <th>5</th>\n",
       "      <td>2022</td>\n",
       "      <td>Airbus A320-232</td>\n",
       "      <td>Domestic Scheduled Passenger</td>\n",
       "      <td>Accident | repairable-damage</td>\n",
       "      <td>Landing/takeoff - Tailstrike, Result - Runway ...</td>\n",
       "      <td>Substantial</td>\n",
       "      <td>2008</td>\n",
       "    </tr>\n",
       "  </tbody>\n",
       "</table>\n",
       "</div>"
      ],
      "text/plain": [
       "   Date                       Aircraft_Model  \\\n",
       "0  2022  British Aerospace 4121 Jetstream 41   \n",
       "1  2022  British Aerospace 3101 Jetstream 31   \n",
       "2  2022                       Boeing 737-4H6   \n",
       "3  2022                  Tupolev Tu-204-100C   \n",
       "5  2022                      Airbus A320-232   \n",
       "\n",
       "                    Aircraft_Nature             Incident_Category  \\\n",
       "0  Domestic Non Scheduled Passenger  Accident | repairable-damage   \n",
       "1      Domestic Scheduled Passenger  Accident | repairable-damage   \n",
       "2      Domestic Scheduled Passenger  Accident | repairable-damage   \n",
       "3                             Cargo          Accident | hull-loss   \n",
       "5      Domestic Scheduled Passenger  Accident | repairable-damage   \n",
       "\n",
       "                                  Incident_Cause(es) Aircraft_Damage_Type  \\\n",
       "0  Airplane - Engines, Airplane - Engines - Prop/...          Substantial   \n",
       "1  Airplane - Undercarriage, Airplane - Undercarr...          Substantial   \n",
       "2  Airplane - Undercarriage, Airplane - Undercarr...          Substantial   \n",
       "3  Cargo - Fire/smoke, Result - Damaged on the gr...            Destroyed   \n",
       "5  Landing/takeoff - Tailstrike, Result - Runway ...          Substantial   \n",
       "\n",
       "  Aircraft_First_Flight  \n",
       "0                  1995  \n",
       "1                  1985  \n",
       "2                  1992  \n",
       "3                  2002  \n",
       "5                  2008  "
      ]
     },
     "execution_count": 21,
     "metadata": {},
     "output_type": "execute_result"
    }
   ],
   "source": [
    "Aircraft.head()"
   ]
  },
  {
   "cell_type": "code",
   "execution_count": 22,
   "id": "46e819a6",
   "metadata": {},
   "outputs": [],
   "source": [
    "Aircraft = Aircraft.dropna()"
   ]
  },
  {
   "cell_type": "code",
   "execution_count": 23,
   "id": "454a0712",
   "metadata": {},
   "outputs": [],
   "source": [
    "Aircraft['Date'] = Aircraft['Date'].astype(int)"
   ]
  },
  {
   "cell_type": "code",
   "execution_count": 24,
   "id": "014a5c83",
   "metadata": {},
   "outputs": [],
   "source": [
    "Aircraft['Aircraft_First_Flight'] = Aircraft['Aircraft_First_Flight'].astype(int)"
   ]
  },
  {
   "cell_type": "code",
   "execution_count": 25,
   "id": "21f6b19a",
   "metadata": {},
   "outputs": [
    {
     "data": {
      "text/html": [
       "<div>\n",
       "<style scoped>\n",
       "    .dataframe tbody tr th:only-of-type {\n",
       "        vertical-align: middle;\n",
       "    }\n",
       "\n",
       "    .dataframe tbody tr th {\n",
       "        vertical-align: top;\n",
       "    }\n",
       "\n",
       "    .dataframe thead th {\n",
       "        text-align: right;\n",
       "    }\n",
       "</style>\n",
       "<table border=\"1\" class=\"dataframe\">\n",
       "  <thead>\n",
       "    <tr style=\"text-align: right;\">\n",
       "      <th></th>\n",
       "      <th>Date</th>\n",
       "      <th>Aircraft_Model</th>\n",
       "      <th>Aircraft_Nature</th>\n",
       "      <th>Incident_Category</th>\n",
       "      <th>Incident_Cause(es)</th>\n",
       "      <th>Aircraft_Damage_Type</th>\n",
       "      <th>Aircraft_First_Flight</th>\n",
       "    </tr>\n",
       "  </thead>\n",
       "  <tbody>\n",
       "    <tr>\n",
       "      <th>0</th>\n",
       "      <td>2022</td>\n",
       "      <td>British Aerospace 4121 Jetstream 41</td>\n",
       "      <td>Domestic Non Scheduled Passenger</td>\n",
       "      <td>Accident | repairable-damage</td>\n",
       "      <td>Airplane - Engines, Airplane - Engines - Prop/...</td>\n",
       "      <td>Substantial</td>\n",
       "      <td>1995</td>\n",
       "    </tr>\n",
       "    <tr>\n",
       "      <th>1</th>\n",
       "      <td>2022</td>\n",
       "      <td>British Aerospace 3101 Jetstream 31</td>\n",
       "      <td>Domestic Scheduled Passenger</td>\n",
       "      <td>Accident | repairable-damage</td>\n",
       "      <td>Airplane - Undercarriage, Airplane - Undercarr...</td>\n",
       "      <td>Substantial</td>\n",
       "      <td>1985</td>\n",
       "    </tr>\n",
       "    <tr>\n",
       "      <th>2</th>\n",
       "      <td>2022</td>\n",
       "      <td>Boeing 737-4H6</td>\n",
       "      <td>Domestic Scheduled Passenger</td>\n",
       "      <td>Accident | repairable-damage</td>\n",
       "      <td>Airplane - Undercarriage, Airplane - Undercarr...</td>\n",
       "      <td>Substantial</td>\n",
       "      <td>1992</td>\n",
       "    </tr>\n",
       "    <tr>\n",
       "      <th>3</th>\n",
       "      <td>2022</td>\n",
       "      <td>Tupolev Tu-204-100C</td>\n",
       "      <td>Cargo</td>\n",
       "      <td>Accident | hull-loss</td>\n",
       "      <td>Cargo - Fire/smoke, Result - Damaged on the gr...</td>\n",
       "      <td>Destroyed</td>\n",
       "      <td>2002</td>\n",
       "    </tr>\n",
       "    <tr>\n",
       "      <th>5</th>\n",
       "      <td>2022</td>\n",
       "      <td>Airbus A320-232</td>\n",
       "      <td>Domestic Scheduled Passenger</td>\n",
       "      <td>Accident | repairable-damage</td>\n",
       "      <td>Landing/takeoff - Tailstrike, Result - Runway ...</td>\n",
       "      <td>Substantial</td>\n",
       "      <td>2008</td>\n",
       "    </tr>\n",
       "  </tbody>\n",
       "</table>\n",
       "</div>"
      ],
      "text/plain": [
       "   Date                       Aircraft_Model  \\\n",
       "0  2022  British Aerospace 4121 Jetstream 41   \n",
       "1  2022  British Aerospace 3101 Jetstream 31   \n",
       "2  2022                       Boeing 737-4H6   \n",
       "3  2022                  Tupolev Tu-204-100C   \n",
       "5  2022                      Airbus A320-232   \n",
       "\n",
       "                    Aircraft_Nature             Incident_Category  \\\n",
       "0  Domestic Non Scheduled Passenger  Accident | repairable-damage   \n",
       "1      Domestic Scheduled Passenger  Accident | repairable-damage   \n",
       "2      Domestic Scheduled Passenger  Accident | repairable-damage   \n",
       "3                             Cargo          Accident | hull-loss   \n",
       "5      Domestic Scheduled Passenger  Accident | repairable-damage   \n",
       "\n",
       "                                  Incident_Cause(es) Aircraft_Damage_Type  \\\n",
       "0  Airplane - Engines, Airplane - Engines - Prop/...          Substantial   \n",
       "1  Airplane - Undercarriage, Airplane - Undercarr...          Substantial   \n",
       "2  Airplane - Undercarriage, Airplane - Undercarr...          Substantial   \n",
       "3  Cargo - Fire/smoke, Result - Damaged on the gr...            Destroyed   \n",
       "5  Landing/takeoff - Tailstrike, Result - Runway ...          Substantial   \n",
       "\n",
       "   Aircraft_First_Flight  \n",
       "0                   1995  \n",
       "1                   1985  \n",
       "2                   1992  \n",
       "3                   2002  \n",
       "5                   2008  "
      ]
     },
     "execution_count": 25,
     "metadata": {},
     "output_type": "execute_result"
    }
   ],
   "source": [
    "Aircraft.head()"
   ]
  },
  {
   "cell_type": "code",
   "execution_count": 26,
   "id": "58346acb",
   "metadata": {},
   "outputs": [],
   "source": [
    "Aircraft['Aircraft_First_Flight'] = Aircraft[\"Date\"] - Aircraft[\"Aircraft_First_Flight\"]"
   ]
  },
  {
   "cell_type": "code",
   "execution_count": 27,
   "id": "e5218fce",
   "metadata": {},
   "outputs": [
    {
     "data": {
      "text/html": [
       "<div>\n",
       "<style scoped>\n",
       "    .dataframe tbody tr th:only-of-type {\n",
       "        vertical-align: middle;\n",
       "    }\n",
       "\n",
       "    .dataframe tbody tr th {\n",
       "        vertical-align: top;\n",
       "    }\n",
       "\n",
       "    .dataframe thead th {\n",
       "        text-align: right;\n",
       "    }\n",
       "</style>\n",
       "<table border=\"1\" class=\"dataframe\">\n",
       "  <thead>\n",
       "    <tr style=\"text-align: right;\">\n",
       "      <th></th>\n",
       "      <th>Date</th>\n",
       "      <th>Aircraft_Model</th>\n",
       "      <th>Aircraft_Nature</th>\n",
       "      <th>Incident_Category</th>\n",
       "      <th>Incident_Cause(es)</th>\n",
       "      <th>Aircraft_Damage_Type</th>\n",
       "      <th>Aircraft_First_Flight</th>\n",
       "    </tr>\n",
       "  </thead>\n",
       "  <tbody>\n",
       "    <tr>\n",
       "      <th>0</th>\n",
       "      <td>2022</td>\n",
       "      <td>British Aerospace 4121 Jetstream 41</td>\n",
       "      <td>Domestic Non Scheduled Passenger</td>\n",
       "      <td>Accident | repairable-damage</td>\n",
       "      <td>Airplane - Engines, Airplane - Engines - Prop/...</td>\n",
       "      <td>Substantial</td>\n",
       "      <td>27</td>\n",
       "    </tr>\n",
       "    <tr>\n",
       "      <th>1</th>\n",
       "      <td>2022</td>\n",
       "      <td>British Aerospace 3101 Jetstream 31</td>\n",
       "      <td>Domestic Scheduled Passenger</td>\n",
       "      <td>Accident | repairable-damage</td>\n",
       "      <td>Airplane - Undercarriage, Airplane - Undercarr...</td>\n",
       "      <td>Substantial</td>\n",
       "      <td>37</td>\n",
       "    </tr>\n",
       "    <tr>\n",
       "      <th>2</th>\n",
       "      <td>2022</td>\n",
       "      <td>Boeing 737-4H6</td>\n",
       "      <td>Domestic Scheduled Passenger</td>\n",
       "      <td>Accident | repairable-damage</td>\n",
       "      <td>Airplane - Undercarriage, Airplane - Undercarr...</td>\n",
       "      <td>Substantial</td>\n",
       "      <td>30</td>\n",
       "    </tr>\n",
       "    <tr>\n",
       "      <th>3</th>\n",
       "      <td>2022</td>\n",
       "      <td>Tupolev Tu-204-100C</td>\n",
       "      <td>Cargo</td>\n",
       "      <td>Accident | hull-loss</td>\n",
       "      <td>Cargo - Fire/smoke, Result - Damaged on the gr...</td>\n",
       "      <td>Destroyed</td>\n",
       "      <td>20</td>\n",
       "    </tr>\n",
       "    <tr>\n",
       "      <th>5</th>\n",
       "      <td>2022</td>\n",
       "      <td>Airbus A320-232</td>\n",
       "      <td>Domestic Scheduled Passenger</td>\n",
       "      <td>Accident | repairable-damage</td>\n",
       "      <td>Landing/takeoff - Tailstrike, Result - Runway ...</td>\n",
       "      <td>Substantial</td>\n",
       "      <td>14</td>\n",
       "    </tr>\n",
       "  </tbody>\n",
       "</table>\n",
       "</div>"
      ],
      "text/plain": [
       "   Date                       Aircraft_Model  \\\n",
       "0  2022  British Aerospace 4121 Jetstream 41   \n",
       "1  2022  British Aerospace 3101 Jetstream 31   \n",
       "2  2022                       Boeing 737-4H6   \n",
       "3  2022                  Tupolev Tu-204-100C   \n",
       "5  2022                      Airbus A320-232   \n",
       "\n",
       "                    Aircraft_Nature             Incident_Category  \\\n",
       "0  Domestic Non Scheduled Passenger  Accident | repairable-damage   \n",
       "1      Domestic Scheduled Passenger  Accident | repairable-damage   \n",
       "2      Domestic Scheduled Passenger  Accident | repairable-damage   \n",
       "3                             Cargo          Accident | hull-loss   \n",
       "5      Domestic Scheduled Passenger  Accident | repairable-damage   \n",
       "\n",
       "                                  Incident_Cause(es) Aircraft_Damage_Type  \\\n",
       "0  Airplane - Engines, Airplane - Engines - Prop/...          Substantial   \n",
       "1  Airplane - Undercarriage, Airplane - Undercarr...          Substantial   \n",
       "2  Airplane - Undercarriage, Airplane - Undercarr...          Substantial   \n",
       "3  Cargo - Fire/smoke, Result - Damaged on the gr...            Destroyed   \n",
       "5  Landing/takeoff - Tailstrike, Result - Runway ...          Substantial   \n",
       "\n",
       "   Aircraft_First_Flight  \n",
       "0                     27  \n",
       "1                     37  \n",
       "2                     30  \n",
       "3                     20  \n",
       "5                     14  "
      ]
     },
     "execution_count": 27,
     "metadata": {},
     "output_type": "execute_result"
    }
   ],
   "source": [
    "Aircraft.head()"
   ]
  },
  {
   "cell_type": "code",
   "execution_count": 28,
   "id": "c84af71f",
   "metadata": {},
   "outputs": [],
   "source": [
    "Aircraft = Aircraft.rename(columns={\"Aircraft_First_Flight\":\"Aircraft_Age\"})"
   ]
  },
  {
   "cell_type": "code",
   "execution_count": 29,
   "id": "d5653024",
   "metadata": {},
   "outputs": [],
   "source": [
    "Aircraft = Aircraft.rename(columns={\"Incident_Cause(es)\":\"Incident_Causes\"})"
   ]
  },
  {
   "cell_type": "code",
   "execution_count": 30,
   "id": "a13c527a",
   "metadata": {},
   "outputs": [],
   "source": [
    "Aircraft = Aircraft[Aircraft['Date'] > 2000] "
   ]
  },
  {
   "cell_type": "code",
   "execution_count": 31,
   "id": "16329693",
   "metadata": {},
   "outputs": [
    {
     "data": {
      "text/plain": [
       "(3101, 7)"
      ]
     },
     "execution_count": 31,
     "metadata": {},
     "output_type": "execute_result"
    }
   ],
   "source": [
    "Aircraft.shape"
   ]
  },
  {
   "cell_type": "raw",
   "id": "00c7133c",
   "metadata": {},
   "source": [
    "print(Aircraft)"
   ]
  },
  {
   "cell_type": "code",
   "execution_count": 33,
   "id": "037f607d",
   "metadata": {},
   "outputs": [
    {
     "name": "stdout",
     "output_type": "stream",
     "text": [
      "Result - Runway excursion                                                                                                                             497\n",
      "Result - Loss of control                                                                                                                              174\n",
      "Result - Damaged on the ground                                                                                                                        132\n",
      "Collision - Aircraft, Collision - Aircraft - On ground (platform), Result - Damaged on the ground                                                     121\n",
      "Result - CFIT - Hill, mountain                                                                                                                        105\n",
      "                                                                                                                                                     ... \n",
      "Maintenance - Wrong installation of parts, Result - Runway excursion                                                                                    1\n",
      "Landing/takeoff - Landing, Landing/takeoff - Landing - Heavy, Result - Runway mishap, Weather - Icing                                                   1\n",
      "Flightcrew - Disorientation, situational awareness, Weather - Visibility -low                                                                           1\n",
      "Maintenance - Wrong installation of parts, Result - Runway mishap                                                                                       1\n",
      "Airplane - Engines, Airplane - Engines - All engine powerloss, Airplane - Engines - Fuel starvation, Result - Emergency, forced landing - Ditching      1\n",
      "Name: Incident_Causes, Length: 529, dtype: int64\n"
     ]
    }
   ],
   "source": [
    "print(Aircraft.Incident_Causes.value_counts())"
   ]
  },
  {
   "cell_type": "code",
   "execution_count": 34,
   "id": "08a89169",
   "metadata": {},
   "outputs": [
    {
     "name": "stdout",
     "output_type": "stream",
     "text": [
      "Cessna 208B Grand Caravan                   166\n",
      "Antonov An-2R                                70\n",
      "de Havilland Canada DHC-6 Twin Otter 300     69\n",
      "Beechcraft 200 Super King Air                43\n",
      "Swearingen SA227-AC Metro III                38\n",
      "                                           ... \n",
      "Boeing 737-8GK (WL)                           1\n",
      "Beechcraft MC-12W Liberty (King Air 350)      1\n",
      "Boeing 747-428BCF                             1\n",
      "Boeing KC-137E (707-324C)                     1\n",
      "Boeing 747-128 (SF)                           1\n",
      "Name: Aircraft_Model, Length: 1013, dtype: int64\n"
     ]
    }
   ],
   "source": [
    "print(Aircraft.Aircraft_Model.value_counts())"
   ]
  },
  {
   "cell_type": "code",
   "execution_count": 35,
   "id": "47030158",
   "metadata": {},
   "outputs": [
    {
     "name": "stdout",
     "output_type": "stream",
     "text": [
      "Accident | hull-loss                                              1849\n",
      "Accident | repairable-damage                                      1190\n",
      "other occurrence (ground fire, sabotage) | repairable-damage        38\n",
      "Criminal occurrence (sabotage, shoot down) | repairable-damage      12\n",
      "Incident | repairable-damage                                         8\n",
      "Hijacking | hull-loss                                                4\n",
      "Name: Incident_Category, dtype: int64\n"
     ]
    }
   ],
   "source": [
    "print(Aircraft.Incident_Category.value_counts())"
   ]
  },
  {
   "cell_type": "code",
   "execution_count": 36,
   "id": "53525bc7",
   "metadata": {},
   "outputs": [],
   "source": [
    "Aircraft = Aircraft.drop(Aircraft.index[Aircraft['Incident_Category'] == 'Hijacking | hull-loss'], inplace = False)"
   ]
  },
  {
   "cell_type": "code",
   "execution_count": 37,
   "id": "db70397b",
   "metadata": {},
   "outputs": [],
   "source": [
    "Aircraft = Aircraft.drop(Aircraft.index[Aircraft['Incident_Category'] == 'Criminal occurrence (sabotage, shoot down) | repairable-damage'], inplace = False)"
   ]
  },
  {
   "cell_type": "code",
   "execution_count": 38,
   "id": "b6072bd1",
   "metadata": {},
   "outputs": [],
   "source": [
    "Aircraft = Aircraft.drop(Aircraft.index[Aircraft['Incident_Category'] == 'other occurrence (ground fire, sabotage) | repairable-damage'], inplace = False)"
   ]
  },
  {
   "cell_type": "code",
   "execution_count": 41,
   "id": "efdcffdb",
   "metadata": {},
   "outputs": [],
   "source": [
    "Aircraft = Aircraft.drop(Aircraft.index[Aircraft['Incident_Category'] == 'Incident | repairable-damage'], inplace = False)"
   ]
  },
  {
   "cell_type": "code",
   "execution_count": 42,
   "id": "0732f53c",
   "metadata": {},
   "outputs": [
    {
     "name": "stdout",
     "output_type": "stream",
     "text": [
      "Accident | hull-loss            1849\n",
      "Accident | repairable-damage    1190\n",
      "Name: Incident_Category, dtype: int64\n"
     ]
    }
   ],
   "source": [
    "print(Aircraft.Incident_Category.value_counts())"
   ]
  },
  {
   "cell_type": "code",
   "execution_count": 43,
   "id": "b90147fb",
   "metadata": {},
   "outputs": [
    {
     "data": {
      "text/plain": [
       "(3039, 7)"
      ]
     },
     "execution_count": 43,
     "metadata": {},
     "output_type": "execute_result"
    }
   ],
   "source": [
    "Aircraft.shape"
   ]
  },
  {
   "cell_type": "code",
   "execution_count": 44,
   "id": "0b95f6d6",
   "metadata": {},
   "outputs": [
    {
     "name": "stdout",
     "output_type": "stream",
     "text": [
      "Result - Runway excursion                                                                                                                             496\n",
      "Result - Loss of control                                                                                                                              174\n",
      "Collision - Aircraft, Collision - Aircraft - On ground (platform), Result - Damaged on the ground                                                     116\n",
      "Result - CFIT - Hill, mountain                                                                                                                        105\n",
      "Result - Damaged on the ground                                                                                                                        104\n",
      "                                                                                                                                                     ... \n",
      "Flightcrew - Non adherence to procedures, Landing/takeoff - Landing, Landing/takeoff - Landing - Bounced, Result - Runway excursion                     1\n",
      "Airplane - Engines, Airplane - Engines - Reverse thrust/prop ground fine pitch, Result - Runway mishap                                                  1\n",
      "Maintenance - Wrong installation of parts, Result - Runway excursion                                                                                    1\n",
      "Landing/takeoff - Landing, Landing/takeoff - Landing - Heavy, Result - Runway mishap, Weather - Icing                                                   1\n",
      "Airplane - Engines, Airplane - Engines - All engine powerloss, Airplane - Engines - Fuel starvation, Result - Emergency, forced landing - Ditching      1\n",
      "Name: Incident_Causes, Length: 513, dtype: int64\n"
     ]
    }
   ],
   "source": [
    "print(Aircraft.Incident_Causes.value_counts())"
   ]
  },
  {
   "cell_type": "code",
   "execution_count": 45,
   "id": "0919a74d",
   "metadata": {},
   "outputs": [
    {
     "data": {
      "text/html": [
       "<div>\n",
       "<style scoped>\n",
       "    .dataframe tbody tr th:only-of-type {\n",
       "        vertical-align: middle;\n",
       "    }\n",
       "\n",
       "    .dataframe tbody tr th {\n",
       "        vertical-align: top;\n",
       "    }\n",
       "\n",
       "    .dataframe thead th {\n",
       "        text-align: right;\n",
       "    }\n",
       "</style>\n",
       "<table border=\"1\" class=\"dataframe\">\n",
       "  <thead>\n",
       "    <tr style=\"text-align: right;\">\n",
       "      <th></th>\n",
       "      <th>Date</th>\n",
       "      <th>Aircraft_Model</th>\n",
       "      <th>Aircraft_Nature</th>\n",
       "      <th>Incident_Category</th>\n",
       "      <th>Incident_Causes</th>\n",
       "      <th>Aircraft_Damage_Type</th>\n",
       "      <th>Aircraft_Age</th>\n",
       "    </tr>\n",
       "  </thead>\n",
       "  <tbody>\n",
       "    <tr>\n",
       "      <th>0</th>\n",
       "      <td>2022</td>\n",
       "      <td>British Aerospace 4121 Jetstream 41</td>\n",
       "      <td>Domestic Non Scheduled Passenger</td>\n",
       "      <td>Accident | repairable-damage</td>\n",
       "      <td>Airplane - Engines, Airplane - Engines - Prop/...</td>\n",
       "      <td>Substantial</td>\n",
       "      <td>27</td>\n",
       "    </tr>\n",
       "    <tr>\n",
       "      <th>1</th>\n",
       "      <td>2022</td>\n",
       "      <td>British Aerospace 3101 Jetstream 31</td>\n",
       "      <td>Domestic Scheduled Passenger</td>\n",
       "      <td>Accident | repairable-damage</td>\n",
       "      <td>Airplane - Undercarriage, Airplane - Undercarr...</td>\n",
       "      <td>Substantial</td>\n",
       "      <td>37</td>\n",
       "    </tr>\n",
       "    <tr>\n",
       "      <th>2</th>\n",
       "      <td>2022</td>\n",
       "      <td>Boeing 737-4H6</td>\n",
       "      <td>Domestic Scheduled Passenger</td>\n",
       "      <td>Accident | repairable-damage</td>\n",
       "      <td>Airplane - Undercarriage, Airplane - Undercarr...</td>\n",
       "      <td>Substantial</td>\n",
       "      <td>30</td>\n",
       "    </tr>\n",
       "    <tr>\n",
       "      <th>3</th>\n",
       "      <td>2022</td>\n",
       "      <td>Tupolev Tu-204-100C</td>\n",
       "      <td>Cargo</td>\n",
       "      <td>Accident | hull-loss</td>\n",
       "      <td>Cargo - Fire/smoke, Result - Damaged on the gr...</td>\n",
       "      <td>Destroyed</td>\n",
       "      <td>20</td>\n",
       "    </tr>\n",
       "    <tr>\n",
       "      <th>5</th>\n",
       "      <td>2022</td>\n",
       "      <td>Airbus A320-232</td>\n",
       "      <td>Domestic Scheduled Passenger</td>\n",
       "      <td>Accident | repairable-damage</td>\n",
       "      <td>Landing/takeoff - Tailstrike, Result - Runway ...</td>\n",
       "      <td>Substantial</td>\n",
       "      <td>14</td>\n",
       "    </tr>\n",
       "  </tbody>\n",
       "</table>\n",
       "</div>"
      ],
      "text/plain": [
       "   Date                       Aircraft_Model  \\\n",
       "0  2022  British Aerospace 4121 Jetstream 41   \n",
       "1  2022  British Aerospace 3101 Jetstream 31   \n",
       "2  2022                       Boeing 737-4H6   \n",
       "3  2022                  Tupolev Tu-204-100C   \n",
       "5  2022                      Airbus A320-232   \n",
       "\n",
       "                    Aircraft_Nature             Incident_Category  \\\n",
       "0  Domestic Non Scheduled Passenger  Accident | repairable-damage   \n",
       "1      Domestic Scheduled Passenger  Accident | repairable-damage   \n",
       "2      Domestic Scheduled Passenger  Accident | repairable-damage   \n",
       "3                             Cargo          Accident | hull-loss   \n",
       "5      Domestic Scheduled Passenger  Accident | repairable-damage   \n",
       "\n",
       "                                     Incident_Causes Aircraft_Damage_Type  \\\n",
       "0  Airplane - Engines, Airplane - Engines - Prop/...          Substantial   \n",
       "1  Airplane - Undercarriage, Airplane - Undercarr...          Substantial   \n",
       "2  Airplane - Undercarriage, Airplane - Undercarr...          Substantial   \n",
       "3  Cargo - Fire/smoke, Result - Damaged on the gr...            Destroyed   \n",
       "5  Landing/takeoff - Tailstrike, Result - Runway ...          Substantial   \n",
       "\n",
       "   Aircraft_Age  \n",
       "0            27  \n",
       "1            37  \n",
       "2            30  \n",
       "3            20  \n",
       "5            14  "
      ]
     },
     "execution_count": 45,
     "metadata": {},
     "output_type": "execute_result"
    }
   ],
   "source": [
    "Aircraft.head()"
   ]
  },
  {
   "cell_type": "code",
   "execution_count": null,
   "id": "e1f2ca8d",
   "metadata": {},
   "outputs": [],
   "source": []
  }
 ],
 "metadata": {
  "kernelspec": {
   "display_name": "Python 3 (ipykernel)",
   "language": "python",
   "name": "python3"
  },
  "language_info": {
   "codemirror_mode": {
    "name": "ipython",
    "version": 3
   },
   "file_extension": ".py",
   "mimetype": "text/x-python",
   "name": "python",
   "nbconvert_exporter": "python",
   "pygments_lexer": "ipython3",
   "version": "3.9.7"
  }
 },
 "nbformat": 4,
 "nbformat_minor": 5
}
